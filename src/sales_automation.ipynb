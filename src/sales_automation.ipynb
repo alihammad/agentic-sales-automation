{
 "cells": [
  {
   "cell_type": "code",
   "execution_count": 4,
   "id": "f742cb73",
   "metadata": {},
   "outputs": [],
   "source": [
    "from dotenv import load_dotenv\n",
    "from agents import Agent, Runner, trace, function_tool\n",
    "from openai.types.responses import ResponseTextDeltaEvent\n",
    "from typing import Dict\n",
    "import sendgrid\n",
    "import os\n",
    "from sendgrid.helpers.mail import Mail, Email, To, Content\n",
    "import asyncio"
   ]
  },
  {
   "cell_type": "code",
   "execution_count": 5,
   "id": "8aae9938",
   "metadata": {},
   "outputs": [
    {
     "data": {
      "text/plain": [
       "True"
      ]
     },
     "execution_count": 5,
     "metadata": {},
     "output_type": "execute_result"
    }
   ],
   "source": [
    "load_dotenv(override=True)"
   ]
  },
  {
   "cell_type": "markdown",
   "id": "da5ac5bc",
   "metadata": {},
   "source": [
    "# Step 1: Agent Workflow"
   ]
  },
  {
   "cell_type": "code",
   "execution_count": 6,
   "id": "aa7f6914",
   "metadata": {},
   "outputs": [],
   "source": [
    "instructions1 = \"You are a sales agent working for ComplAI, \\\n",
    "a company that provides a SaaS tool for ensuring SOC2 compliance and preparing for audits, powered by AI. \\\n",
    "You write professional, serious cold emails.\"\n",
    "\n",
    "instructions2 = \"You are a humorous, engaging sales agent working for ComplAI, \\\n",
    "a company that provides a SaaS tool for ensuring SOC2 compliance and preparing for audits, powered by AI. \\\n",
    "You write witty, engaging cold emails that are likely to get a response.\"\n",
    "\n",
    "instructions3 = \"You are a busy sales agent working for ComplAI, \\\n",
    "a company that provides a SaaS tool for ensuring SOC2 compliance and preparing for audits, powered by AI. \\\n",
    "You write concise, to the point cold emails.\""
   ]
  },
  {
   "cell_type": "code",
   "execution_count": 7,
   "id": "1265f6cb",
   "metadata": {},
   "outputs": [],
   "source": [
    "sales_agent1 = Agent(\n",
    "    name=\"Professional Sales Agent\",\n",
    "    instructions=instructions1,\n",
    "    model=\"gpt-4o-mini\"\n",
    ")\n",
    "\n",
    "sales_agent2 = Agent(\n",
    "    name=\"Engaging Sales Agent\",\n",
    "    instructions=instructions2,\n",
    "    model=\"gpt-4o-mini\"\n",
    ")\n",
    "\n",
    "sales_agent3 = Agent(\n",
    "    name=\"Busy Sales Agent\",\n",
    "    instructions=instructions3,\n",
    "    model=\"gpt-4o-mini\"\n",
    ")"
   ]
  },
  {
   "cell_type": "code",
   "execution_count": null,
   "id": "1380b845",
   "metadata": {},
   "outputs": [
    {
     "name": "stdout",
     "output_type": "stream",
     "text": [
      "Subject: Streamline Your SOC 2 Compliance with ComplAI\n",
      "\n",
      "Dear [Recipient's Name],\n",
      "\n",
      "I hope this message finds you well.\n",
      "\n",
      "Navigating the complexities of SOC 2 compliance can be a daunting challenge for many organizations. At ComplAI, we understand that maintaining compliance while maximizing operational efficiency is a top priority for businesses like yours.\n",
      "\n",
      "Our AI-powered SaaS tool simplifies the SOC 2 compliance process by automating documentation, tracking compliance metrics, and preparing you for audits with ease. With ComplAI, you can streamline your compliance efforts, reduce audit preparation time, and ensure you meet industry standards without the usual headaches.\n",
      "\n",
      "I would love to schedule a brief call to discuss how ComplAI can support your compliance journey and help you stay ahead of the curve. Are you available for a quick chat this week?\n",
      "\n",
      "Thank you for considering ComplAI. I look forward to the possibility of working together.\n",
      "\n",
      "Best regards,\n",
      "\n",
      "[Your Name]  \n",
      "[Your Position]  \n",
      "ComplAI  \n",
      "[Your Phone Number]  \n",
      "[Your LinkedIn Profile]  \n",
      "[Your Website]  "
     ]
    }
   ],
   "source": [
    "result = Runner.run_streamed(sales_agent1, input=\"Write a cold sales email\")\n",
    "async for event in result.stream_events():\n",
    "    if event.type == \"raw_response_event\" and isinstance(event.data, ResponseTextDeltaEvent):\n",
    "        print(event.data.delta, end=\"\", flush=True)"
   ]
  },
  {
   "cell_type": "code",
   "execution_count": null,
   "id": "658dc267",
   "metadata": {},
   "outputs": [
    {
     "name": "stdout",
     "output_type": "stream",
     "text": [
      "Subject: Simplify Your SOC 2 Compliance with ComplAI\n",
      "\n",
      "Hi [Recipient's Name],\n",
      "\n",
      "I hope this message finds you well. My name is [Your Name], and I’m reaching out from ComplAI, where we help companies like yours streamline the SOC 2 compliance process.\n",
      "\n",
      "Navigating compliance can often be a daunting task, consuming valuable time and resources. ComplAI leverages cutting-edge AI technology to simplify this journey, helping you prepare for audits with ease and confidence. Our platform not only automates documentation but also provides continuous monitoring to ensure you stay compliant year-round.\n",
      "\n",
      "Here are a few key benefits our clients experience:\n",
      "\n",
      "- **Effortless Tracking:** Keep all your compliance documentation organized and accessible.\n",
      "- **Reduced Audit Time:** Our AI-driven tools significantly speed up the audit preparation process.\n",
      "- **Ongoing Compliance Monitoring:** Stay ahead of changing regulations with real-time updates.\n",
      "\n",
      "I would love to schedule a brief call to discuss how ComplAI can assist your team in achieving and maintaining SOC 2 compliance. Are you available for a quick chat this week?\n",
      "\n",
      "Thank you for considering this opportunity. I look forward to your reply.\n",
      "\n",
      "Best regards,\n",
      "\n",
      "[Your Name]  \n",
      "[Your Position]  \n",
      "ComplAI  \n",
      "[Your Phone Number]  \n",
      "[Your Email Address]  \n",
      "[Website URL]  \n",
      "\n",
      "\n",
      "Subject: Your SOC2 Compliance Journey Just Got a Lot Less Scary! 🎃\n",
      "\n",
      "Hi [Recipient's Name],\n",
      "\n",
      "I hope this email finds you well and not buried under a mountain of compliance paperwork! I know SOC2 audits can feel like a horror movie—jumpscares, unexpected plot twists, and just when you think it’s over, BOOM, another requirement pops up! 🎬😱\n",
      "\n",
      "But fear not! At ComplAI, we’ve created the ultimate survival guide to help you navigate these treacherous waters. Our AI-powered SaaS tool simplifies SOC2 compliance as if you had a magical compliance genie in your corner. 🧞‍♂️✨\n",
      "\n",
      "Imagine auto-generating policies, tracking controls, and preparing for audits all while sipping your favorite coffee (or tea, no judgment here!). It’s like having a personal assistant without the awkward small talk.\n",
      "\n",
      "Are you ready to turn your compliance nightmare into a dream? Let’s chat! I promise I won't bring any jump scares.\n",
      "\n",
      "Cheers,  \n",
      "[Your Name]  \n",
      "[Your Position]  \n",
      "ComplAI  \n",
      "[Your Phone Number]  \n",
      "[Your LinkedIn Profile]  \n",
      "\n",
      "P.S. If you respond with a spooky GIF, I’ll totally ooh and aah over it! 👻 \n",
      "\n",
      "\n",
      "Subject: Simplify Your SOC 2 Compliance with AI\n",
      "\n",
      "Hi [Recipient's Name],\n",
      "\n",
      "I hope this message finds you well. I'm [Your Name] from ComplAI, where we help companies like yours streamline SOC 2 compliance and audit preparations.\n",
      "\n",
      "Our AI-powered tool automates the documentation process, reduces audit times, and ensures you stay compliant effortlessly. Imagine cutting weeks off your preparation time!\n",
      "\n",
      "Would you be open to a quick call next week to explore how we can support your compliance efforts?\n",
      "\n",
      "Best,  \n",
      "[Your Name]  \n",
      "[Your Position]  \n",
      "ComplAI  \n",
      "[Your Phone Number]  \n",
      "[Your LinkedIn Profile or Website]  \n",
      "\n",
      "\n"
     ]
    }
   ],
   "source": [
    "message = \"Write a cold sales email\"\n",
    "\n",
    "with trace(\"Parallel cold emails\"):\n",
    "    results = await asyncio.gather(\n",
    "        Runner.run(sales_agent1, message),\n",
    "        Runner.run(sales_agent2, message),\n",
    "        Runner.run(sales_agent3, message),\n",
    "    )\n",
    "\n",
    "outputs = [result.final_output for result in results]\n",
    "\n",
    "for output in outputs:\n",
    "    print(output + \"\\n\\n\")\n"
   ]
  },
  {
   "cell_type": "code",
   "execution_count": null,
   "id": "731f007f",
   "metadata": {},
   "outputs": [],
   "source": [
    "sales_picker = Agent(\n",
    "    name=\"sales_picker\",\n",
    "    instructions=\"You pick the best cold sales email from the given options. \\\n",
    "Imagine you are a customer and pick the one you are most likely to respond to. \\\n",
    "Do not give an explanation; reply with the selected email only.\",\n",
    "    model=\"gpt-4o-mini\"\n",
    ")"
   ]
  },
  {
   "cell_type": "code",
   "execution_count": null,
   "id": "f4493913",
   "metadata": {},
   "outputs": [
    {
     "name": "stdout",
     "output_type": "stream",
     "text": [
      "Best sales email:\n",
      "Subject: Is Your SOC2 Compliance as Smooth as a Baby’s Bottom? 🍼\n",
      "\n",
      "Hi [Recipient's Name],\n",
      "\n",
      "I hope this email finds you well and that your coffee is as strong as your commitment to compliance! ☕️\n",
      "\n",
      "Let’s face it—dealing with SOC2 compliance can feel like trying to understand a cat’s meow. It’s confusing, time-consuming, and let’s not even start on those audits! Enter ComplAI, your new best friend (don’t worry, our feelings won’t be hurt if you have other friends too).\n",
      "\n",
      "With our AI-powered SaaS tool, we take the “ugh” out of compliance. Imagine having:\n",
      "\n",
      "- A trusty sidekick that understands your unique needs\n",
      "- Automated workflows that practically do the tango while ensuring compliance\n",
      "- A dashboard that’s easier to navigate than a toddler in a candy store\n",
      "\n",
      "Our platform isn’t just about surviving audits; it’s about thriving through them. Let us handle the paperwork while you focus on what you do best—running your business (and perhaps perfecting that coffee brewing technique...).\n",
      "\n",
      "Are you open to a quick chat this week? I promise no PowerPoint slides that turn into snooze-fests!\n",
      "\n",
      "Looking forward to your reply!\n",
      "\n",
      "Cheers,  \n",
      "[Your Name]  \n",
      "[Your Title]  \n",
      "ComplAI  \n",
      "[Your Contact Information]  \n",
      "\n",
      "P.S. If compliance were a sport, we’d be the Olympic gold medalists—let's aim for the gold together! 🥇\n"
     ]
    }
   ],
   "source": [
    "message = \"Write a cold sales email\"\n",
    "\n",
    "with trace(\"Selection from sales people\"):\n",
    "    results = await asyncio.gather(\n",
    "        Runner.run(sales_agent1, message),\n",
    "        Runner.run(sales_agent2, message),\n",
    "        Runner.run(sales_agent3, message),\n",
    "    )\n",
    "    outputs = [result.final_output for result in results]\n",
    "\n",
    "    emails = \"Cold sales emails:\\n\\n\".join(outputs)\n",
    "\n",
    "    best = await Runner.run(sales_picker, emails)\n",
    "\n",
    "    print(f\"Best sales email:\\n{best.final_output}\")\n"
   ]
  },
  {
   "cell_type": "markdown",
   "id": "736343d6",
   "metadata": {},
   "source": [
    "Now go and check out the trace:\n",
    "\n",
    "https://platform.openai.com/traces"
   ]
  },
  {
   "cell_type": "markdown",
   "id": "7b1ba53f",
   "metadata": {},
   "source": [
    "## Part 2: Use of tools\n",
    "\n",
    "Now we will add a tool to the mix."
   ]
  },
  {
   "cell_type": "code",
   "execution_count": 8,
   "id": "770df571",
   "metadata": {},
   "outputs": [],
   "source": [
    "sales_agent1 = Agent(\n",
    "        name=\"Professional Sales Agent\",\n",
    "        instructions=instructions1,\n",
    "        model=\"gpt-4o-mini\",\n",
    ")\n",
    "\n",
    "sales_agent2 = Agent(\n",
    "        name=\"Engaging Sales Agent\",\n",
    "        instructions=instructions2,\n",
    "        model=\"gpt-4o-mini\",\n",
    ")\n",
    "\n",
    "sales_agent3 = Agent(\n",
    "        name=\"Busy Sales Agent\",\n",
    "        instructions=instructions3,\n",
    "        model=\"gpt-4o-mini\",\n",
    ")"
   ]
  },
  {
   "cell_type": "code",
   "execution_count": 11,
   "id": "2c155fab",
   "metadata": {},
   "outputs": [
    {
     "data": {
      "text/plain": [
       "Agent(name='Professional Sales Agent', instructions='You are a sales agent working for ComplAI, a company that provides a SaaS tool for ensuring SOC2 compliance and preparing for audits, powered by AI. You write professional, serious cold emails.', prompt=None, handoff_description=None, handoffs=[], model='gpt-4o-mini', model_settings=ModelSettings(temperature=None, top_p=None, frequency_penalty=None, presence_penalty=None, tool_choice=None, parallel_tool_calls=None, truncation=None, max_tokens=None, reasoning=None, metadata=None, store=None, include_usage=None, extra_query=None, extra_body=None, extra_headers=None, extra_args=None), tools=[], mcp_servers=[], mcp_config={}, input_guardrails=[], output_guardrails=[], output_type=None, hooks=None, tool_use_behavior='run_llm_again', reset_tool_choice=True)"
      ]
     },
     "execution_count": 11,
     "metadata": {},
     "output_type": "execute_result"
    }
   ],
   "source": [
    "sales_agent1"
   ]
  },
  {
   "cell_type": "code",
   "execution_count": null,
   "id": "d5767854",
   "metadata": {},
   "outputs": [],
   "source": [
    "\n",
    "\"\"\"\n",
    "Send out an email with the given body to all sales prospects.\n",
    "\n",
    "Args:\n",
    "    body (str): The content of the email to be sent.\n",
    "\n",
    "Returns:\n",
    "    dict: A dictionary with the status of the email sending operation. \n",
    "          Example: {\"status\": \"success\"}\n",
    "\n",
    "Example:\n",
    "    response = send_email(\"Hello, this is a test email.\")\n",
    "    print(response)  # Output: {'status': 'success'}\n",
    "\"\"\"\n",
    "@function_tool\n",
    "def send_email(body: str):\n",
    "    sg = sendgrid.SendGridAPIClient(api_key=os.environ.get('SENDGRID_API_KEY'))\n",
    "    from_email = Email(\"daddysbackpack@gmail.com\")\n",
    "    to_email = To(\"daddysbackpack@gmail.com\")  # Change to your recipient\n",
    "    content = Content(\"text/plain\", body)\n",
    "    mail = Mail(from_email, to_email, \"Sales email\", content).get()\n",
    "    response = sg.client.mail.send.post(request_body=mail)\n",
    "    return {\"status\": \"success\"}"
   ]
  }
 ],
 "metadata": {
  "kernelspec": {
   "display_name": "venv",
   "language": "python",
   "name": "python3"
  },
  "language_info": {
   "codemirror_mode": {
    "name": "ipython",
    "version": 3
   },
   "file_extension": ".py",
   "mimetype": "text/x-python",
   "name": "python",
   "nbconvert_exporter": "python",
   "pygments_lexer": "ipython3",
   "version": "3.12.10"
  }
 },
 "nbformat": 4,
 "nbformat_minor": 5
}
